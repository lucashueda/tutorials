{
 "cells": [
  {
   "cell_type": "markdown",
   "metadata": {},
   "source": [
    "# [Aula 4] Introdução a Machine Learning\n",
    "\n",
    "<center> <img href=\"miniflango.jpg\"> </center>\n",
    "![](miniflango.jpg)\n",
    "\n",
    "Machine Learning é basicamente um algoritmo(modelo) de computador capaz de aprender uma determinada tarefa, seja reconhecer uma imagem, classificar um cliente em bom ou ruim ou qualquer outra tarefa. Todo modelo de machine learning consiste nas seguintes etapas para funcionar:\n",
    "\n",
    "<br>\n",
    "\n",
    "1. **Dados**: informações que descrevem seu problema <br>\n",
    "2. **Função**: uma função matemática capaz de medir o quão bom o modelo está fazendo aquela tarefa<br>\n",
    "3. **Minimização (treinamento)**: uma maneira de determinar o ponto em que eu erro a menor quantidade de vezes possível<br>\n",
    "\n",
    "Muito genérico?\n",
    "\n",
    "Basicamente, dado um conjunto de dados:\n",
    "\n",
    "<center> <img href=\"\"> </center>\n",
    "![](miniflango.jpg)\n",
    "\n",
    "Eu quero achar a melhor função que descreve esses dados:\n",
    "\n",
    "<center> <img href=\"\"> </center>\n",
    "\n",
    "![](miniflango.jpg)\n",
    "\n",
    "Lembra Lab1 certo? Mínimos quadrados....\n",
    "\n",
    "Mínimos quadrados é a ideia primordial de um dos modelos mais simples que existe: a Regressão Linear!\n",
    "\n",
    "Atenção! Não necessariamente a melhor função será uma reta, tudo dependerá de qual algoritmo estou usando.\n",
    "\n",
    "Mas como eu acho essa melhor função?\n",
    "\n",
    "Basicamente, dado que eu sei o que eu quero prever na minha base (no caso do titanic por exemplo era se a pessoa sobreviveu ou não) eu posso construir uma função que me da uma resposta e com essa função genérica posso definir uma função $\\gamma$ que é o erro associado a cada observação:\n",
    "\n",
    "![](miniflango.jpg)\n",
    "\n",
    "A partir dela posso calcular os pontos críticos da função e determinar seu mínimo:\n",
    "\n",
    "![](miniflango.jpg)\n",
    "\n",
    "Determinado esse mínimo, consigo achar qual é essa função que melhor descreve meus dados!\n",
    "\n",
    "\n",
    "### Nesse curso introdutório iremos abordar os seguintes algoritmos:\n",
    "\n",
    "- KNN\n",
    "- Regressão Logística\n",
    "- Árvore de Decisão\n",
    "- Redes Neurais(*)\n",
    "\n",
    "Para isso existem diversos pacotes específicos para desenvolvimento de modelos, como:\n",
    "\n",
    "1. **Scikitlearn**\n",
    "2. TensorFlow\n",
    "3. MLlib\n",
    "4. NLTK\n",
    "\n",
    "O foco nesse curso será dar um direcionamento no uso do SciKitLearn, pacote mais simples e mais utilizado para cursos introdutórios."
   ]
  },
  {
   "cell_type": "markdown",
   "metadata": {},
   "source": [
    "## 1 - Importando pacotes\n",
    "\n",
    "Aqui iremos importar todos os pacotes que serão utilizados no curso"
   ]
  },
  {
   "cell_type": "code",
   "execution_count": 4,
   "metadata": {},
   "outputs": [],
   "source": [
    "# Import de bibliotecas padrões\n",
    "import pandas as pd\n",
    "import numpy as np\n",
    "import matplotlib.pyplot as plt\n",
    "%matplotlib inline\n",
    "\n",
    "# Import de modelo de Regressão Logística\n",
    "from sklearn.linear_model import LogisticRegression\n",
    "\n",
    "# Import do modelo de KNN\n",
    "from sklearn.neighbors import KNeighborsClassifier\n",
    "\n",
    "# Import do modelo de árvore de decisão\n",
    "from sklearn.tree import DecisionTreeClassifier\n",
    "\n",
    "# Import do modelo de rede neural\n",
    "from sklearn.neural_network import MLPClassifier\n",
    "\n",
    "# Import de função que calcula uma métrica para avaliar se um modelo está bom ou não\n",
    "from sklearn.metrics import accuracy_score\n",
    "\n",
    "# Import de função que particiona uma base em base de treino e de validação\n",
    "from sklearn.model_selection import train_test_split"
   ]
  },
  {
   "cell_type": "code",
   "execution_count": 5,
   "metadata": {
    "collapsed": true
   },
   "outputs": [],
   "source": [
    "# Lendo a base de dados\n",
    "\n",
    "base = pd.read_csv(\"train.csv\")"
   ]
  },
  {
   "cell_type": "markdown",
   "metadata": {},
   "source": [
    "## 2 - Modelos\n",
    "\n",
    "Aqui abordaremos cada um dos modelos citados"
   ]
  },
  {
   "cell_type": "markdown",
   "metadata": {},
   "source": [
    "### 2.1 - KNN\n",
    "\n",
    "O KNN (K Nearest Neighborhood) é um modelo simples"
   ]
  }
 ],
 "metadata": {
  "kernelspec": {
   "display_name": "Python 3",
   "language": "python",
   "name": "python3"
  },
  "language_info": {
   "codemirror_mode": {
    "name": "ipython",
    "version": 3
   },
   "file_extension": ".py",
   "mimetype": "text/x-python",
   "name": "python",
   "nbconvert_exporter": "python",
   "pygments_lexer": "ipython3",
   "version": "3.6.1"
  }
 },
 "nbformat": 4,
 "nbformat_minor": 2
}
