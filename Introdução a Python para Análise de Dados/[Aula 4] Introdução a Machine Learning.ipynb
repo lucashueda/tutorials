{
 "cells": [
  {
   "cell_type": "markdown",
   "metadata": {},
   "source": [
    "# [Aula 4] Introdução a Machine Learning\n",
    "\n",
    "<img src=\"imagens/machine_learning.jpg\" alt=\"Drawing\" style=\"width: 300px;\"/>\n",
    "\n",
    "Machine Learning é basicamente um algoritmo(modelo) de computador capaz de aprender uma determinada tarefa, seja reconhecer uma imagem, classificar um cliente em bom ou ruim ou qualquer outra tarefa através da forma aproximada de uma função.\n",
    "\n",
    "Exemplo: Mínimos quadrados\n",
    "\n",
    "<img src=\"imagens/mmq.gif\" alt=\"Drawing\" style=\"width: 300px;\"/>\n",
    "\n",
    "\n",
    "### Existem 3 tipos de modelos básicos:\n",
    "\n",
    "**1. Classificação**: Quero dizer que classe minha observação pertence (viveu/morreu, gato/cachorro, etc...)\n",
    "\n",
    "<img src=\"imagens/classification.png\" alt=\"Drawing\" style=\"width: 300px;\"/>\n",
    "\n",
    "**3. Regressão**: Quero dizer qual o valor da minha observação (idade, dinheiro, etc...)\n",
    "\n",
    "<img src=\"imagens/regression.png\" alt=\"Drawing\" style=\"width: 300px;\"/>\n",
    "\n",
    "**3. Clusterização**: Quero montar grupos com observações parecidas entre si mas diferentes entre os grupos (segmentação de clientes, tópico de notícias etc...)\n",
    "\n",
    "<img src=\"imagens/clusterization.png\" alt=\"Drawing\" style=\"width: 300px;\"/>\n",
    "\n",
    "<br>\n",
    "\n",
    "\n",
    "### Todo modelo de machine learning consiste nas seguintes etapas para funcionar:\n",
    "\n",
    "<br>\n",
    "\n",
    "1. **Dados**: informações que descrevem seu problema <br>\n",
    "2. **Função**: uma função matemática capaz de medir o quão bom o modelo está fazendo aquela tarefa<br>\n",
    "3. **Minimização (treinamento)**: uma maneira de determinar o ponto em que eu erro a menor quantidade de vezes possível<br>\n",
    "\n",
    "Muito genérico?\n",
    "\n",
    "Basicamente, dado um conjunto de dados:\n",
    "\n",
    "<img src=\"imagens/dados.jpg\" alt=\"Drawing\" style=\"width: 300px;\"/>\n",
    "\n",
    "Eu quero achar a melhor função que descreve esses dados:\n",
    "\n",
    "<center> <img href=\"\"> </center>\n",
    "\n",
    "<img src=\"imagens/core.gif\" alt=\"Drawing\" style=\"width: 300px;\"/>\n",
    "\n",
    "Lembra Lab1 certo? Mínimos quadrados....\n",
    "\n",
    "Mínimos quadrados é a ideia primordial de um dos modelos mais simples que existe: a Regressão Linear!\n",
    "\n",
    "Atenção! Não necessariamente a melhor função será uma reta, tudo dependerá de qual algoritmo estou usando.\n",
    "\n",
    "Mas como eu acho essa melhor função?\n",
    "\n",
    "Basicamente, dado que eu sei o que eu quero prever na minha base (no caso do titanic por exemplo era se a pessoa sobreviveu ou não) eu posso construir uma função que me da uma resposta e com essa função genérica posso definir uma função $\\gamma$ que é o erro associado a cada observação:\n",
    "\n",
    "<img src=\"imagens/custo.png\" alt=\"Drawing\" style=\"width: 300px;\"/>\n",
    "\n",
    "A partir dela posso calcular a derivar em relação aos coeficientes que quero determinar e encontrar os pontos críticos:\n",
    "\n",
    "<img src=\"imagens/derivada.png\" alt=\"Drawing\" style=\"width: 300px;\"/>\n",
    "\n",
    "Determinado esse mínimo, consigo achar qual é essa função que melhor descreve meus dados!\n",
    "\n",
    "Na prática esse mínimos é encontrado através de métodos numéricos.\n",
    "\n",
    "<img src=\"imagens/gradiente.png\" alt=\"Drawing\" style=\"width: 300px;\"/>\n",
    "\n",
    "### Nesse curso introdutório iremos abordar os seguintes algoritmos:\n",
    "\n",
    "- KNN\n",
    "- Regressão Logística\n",
    "- Árvore de Decisão\n",
    "- Redes Neurais(*)\n",
    "\n",
    "Para isso existem diversos pacotes específicos para desenvolvimento de modelos, como:\n",
    "\n",
    "1. **Scikitlearn**\n",
    "2. TensorFlow\n",
    "3. MLlib\n",
    "4. NLTK\n",
    "\n",
    "O foco nesse curso será dar um direcionamento no uso do SciKitLearn, pacote mais simples e mais utilizado para cursos introdutórios."
   ]
  },
  {
   "cell_type": "markdown",
   "metadata": {},
   "source": [
    "## 1 - Importando pacotes\n",
    "\n",
    "Aqui iremos importar todos os pacotes que serão utilizados no curso"
   ]
  },
  {
   "cell_type": "code",
   "execution_count": 2,
   "metadata": {
    "collapsed": true
   },
   "outputs": [],
   "source": [
    "# Import de bibliotecas padrões\n",
    "import pandas as pd\n",
    "import numpy as np\n",
    "import matplotlib.pyplot as plt\n",
    "%matplotlib inline\n",
    "\n",
    "# Import de modelo de Regressão Logística\n",
    "from sklearn.linear_model import LogisticRegression\n",
    "\n",
    "# Import do modelo de KNN\n",
    "from sklearn.neighbors import KNeighborsClassifier\n",
    "\n",
    "# Import do modelo de árvore de decisão\n",
    "from sklearn.tree import DecisionTreeClassifier\n",
    "\n",
    "# Import de função que calcula uma métrica para avaliar se um modelo está bom ou não\n",
    "from sklearn.metrics import accuracy_score\n",
    "\n",
    "# Import de função que particiona uma base em base de treino e de validação\n",
    "from sklearn.model_selection import train_test_split"
   ]
  },
  {
   "cell_type": "markdown",
   "metadata": {},
   "source": [
    "Testaremos os modelos no dataset do Breast Cancer\n",
    "\n",
    "Consiste basicamente na classificação de 3 tipos de plantas a partir do tamanho das suas folhas"
   ]
  },
  {
   "cell_type": "code",
   "execution_count": 51,
   "metadata": {
    "collapsed": true
   },
   "outputs": [],
   "source": [
    "# Lendo a base de dados própria do sklearn\n",
    "from sklearn.datasets import load_breast_cancer\n",
    "\n",
    "cancer = load_breast_cancer()\n",
    "\n",
    "# Separando a base de dados e a variável de interesse\n",
    "X = cancer.data\n",
    "y = cancer.target"
   ]
  },
  {
   "cell_type": "code",
   "execution_count": 44,
   "metadata": {
    "collapsed": true
   },
   "outputs": [],
   "source": [
    "# Repartindo a base em uma base para treinar e uma para testar\n",
    "\n",
    "X_train, X_test, y_train, y_test = train_test_split(X, y, test_size = 0.3, random_state = 42)"
   ]
  },
  {
   "cell_type": "markdown",
   "metadata": {},
   "source": [
    "## 2 - Modelos\n",
    "\n",
    "Aqui abordaremos cada um dos modelos citados.\n",
    "\n",
    "* Todo modelo de ML em python segue um fluxo de desenvolvimento, descrito a seguir:\n",
    "\n",
    "     1. Inicialização de um objeto modelo. Ex: meu_modelo = Modelo_Machine_Learning(*parâmetros)\n",
    "     2. Treinar o modelo com uma base de dados (X) e a variável resposta (y : a ser predita): Ex: meu_modelo.fit(X,y)\n",
    "     3. Prever uma nova informação, ou conjunto de informação. Ex: meu_modelo.predict(X_novo)"
   ]
  },
  {
   "cell_type": "markdown",
   "metadata": {},
   "source": [
    "### 2.1 - KNN\n",
    "\n",
    "O KNN (K Nearest Neighborhood) é um dos modelos mais simples. Sua ideia é basicamente classificar um ponto pelos mais comuns ao seu redor.\n",
    "\n",
    "<img src=\"imagens/knn.png\" alt=\"Drawing\" style=\"width: 300px;\"/>\n",
    "\n",
    "**Algoritmo**\n",
    "1. Receba um dado novo\n",
    "2. Calcule a distância desse ponto para todos os pontos da sua base de dados (com variável resposta)\n",
    "3. Pegue os k pontos com distâncias menores\n",
    "4. Marque essa observação com a classe que aparece mais vezes desses k pontos"
   ]
  },
  {
   "cell_type": "code",
   "execution_count": 54,
   "metadata": {},
   "outputs": [
    {
     "data": {
      "text/plain": [
       "array([0, 0, 0, 1, 1, 0, 0, 0, 1, 1, 1, 0, 1, 1, 1, 0, 1, 1, 1, 0, 0, 1, 0,\n",
       "       1, 1, 1, 1, 1, 1, 0, 1, 1, 1, 0, 1, 1, 0, 1, 0, 1, 1, 0, 1, 1, 1, 1,\n",
       "       1, 1, 1, 1, 0, 0, 1, 1, 1, 1, 1, 0, 1, 1, 1, 0, 0, 1, 1, 1, 0, 0, 1,\n",
       "       1, 1, 0, 1, 1, 1, 1, 1, 1, 1, 1, 0, 1, 1, 0, 0, 0, 0, 0, 1, 1, 1, 1,\n",
       "       1, 1, 1, 1, 0, 0, 1, 0, 0, 1, 0, 0, 0, 1, 1, 0, 1, 1, 0, 1, 1, 0, 1,\n",
       "       0, 1, 1, 1, 0, 1, 1, 1, 0, 1, 0, 0, 1, 1, 0, 0, 0, 0, 1, 1, 0, 1, 1,\n",
       "       1, 0, 1, 0, 1, 1, 0, 1, 0, 0, 0, 1, 0, 1, 1, 1, 1, 0, 0, 1, 1, 1, 1,\n",
       "       1, 1, 1, 0, 1, 1, 1, 1, 0, 1])"
      ]
     },
     "execution_count": 54,
     "metadata": {},
     "output_type": "execute_result"
    }
   ],
   "source": [
    "# Aplicando o modelo nos moldes dado acima\n",
    "\n",
    "# Inicializando meu modelo com o parâmetro n_neighbors = 3, o que quer dizer que vou considerar os 3 vizinhos mais próximos\n",
    "meu_knn = KNeighborsClassifier(n_neighbors=3)\n",
    "# Treinando o modelo com os dados de treino\n",
    "meu_knn.fit(X_train, y_train)\n",
    "# Prevendo os resultados do teste\n",
    "meu_knn.predict(X_test)"
   ]
  },
  {
   "cell_type": "code",
   "execution_count": 55,
   "metadata": {},
   "outputs": [
    {
     "data": {
      "text/plain": [
       "0.94152046783625731"
      ]
     },
     "execution_count": 55,
     "metadata": {},
     "output_type": "execute_result"
    }
   ],
   "source": [
    "# A função \"score\" dos modelos permite testar o modelo em um conjunto de dados, vamos utilizar para os dados de teste então\n",
    "meu_knn.score(X_test, y_test)"
   ]
  },
  {
   "cell_type": "markdown",
   "metadata": {},
   "source": [
    "### 2.2 - Regressão Logística\n",
    "\n",
    "A regressã logística é um modelo de classificação que busca encontrar o melhor hyper plano $ z = b_0 + b_1.x_1 + b_2.x_2 + ... + b_n.x_n$ que separa meus dados de acordo com as classes desejadas. A partir disso ele utiliza a função sigmoid para \"explodir\" o valor para 1 ou 0, como mostra a figura.\n",
    "\n",
    "<img src=\"imagens/sigmoid.png\" alt=\"Drawing\" style=\"width: 300px;\"/>\n",
    "\n",
    "**Algoritmo**\n",
    "\n",
    "1. Minimize a função de erro\n",
    "2. Encontre os parâmetros do hyperplano que melhor separa os dados\n",
    "3. Aplique a função sigmoid para classificar os dados em 1 ou 0\n",
    "4. Em um novo dado calcule a região do hyperplano ele cai e classifique usando a função sigmoid"
   ]
  },
  {
   "cell_type": "code",
   "execution_count": 47,
   "metadata": {},
   "outputs": [
    {
     "name": "stderr",
     "output_type": "stream",
     "text": [
      "c:\\users\\hideki\\appdata\\local\\programs\\python\\python36\\lib\\site-packages\\sklearn\\linear_model\\logistic.py:433: FutureWarning: Default solver will be changed to 'lbfgs' in 0.22. Specify a solver to silence this warning.\n",
      "  FutureWarning)\n"
     ]
    },
    {
     "data": {
      "text/plain": [
       "array([1, 0, 0, 1, 1, 0, 0, 0, 1, 1, 1, 0, 1, 0, 1, 0, 1, 1, 1, 0, 1, 1, 0,\n",
       "       1, 1, 1, 1, 1, 1, 0, 1, 1, 1, 1, 1, 1, 0, 1, 0, 1, 1, 0, 1, 1, 1, 1,\n",
       "       1, 1, 1, 1, 0, 0, 1, 1, 1, 1, 1, 0, 1, 1, 1, 0, 0, 1, 1, 1, 0, 0, 1,\n",
       "       1, 0, 0, 1, 0, 1, 1, 1, 1, 1, 1, 0, 1, 1, 0, 0, 0, 0, 0, 1, 1, 1, 1,\n",
       "       1, 1, 1, 1, 0, 0, 1, 0, 0, 1, 0, 0, 1, 1, 1, 0, 1, 1, 0, 1, 0, 0, 1,\n",
       "       0, 1, 1, 1, 0, 0, 1, 1, 0, 1, 0, 0, 1, 1, 0, 0, 0, 1, 1, 1, 0, 1, 1,\n",
       "       1, 0, 1, 0, 1, 1, 0, 1, 0, 0, 0, 1, 0, 1, 1, 1, 1, 0, 0, 1, 1, 1, 1,\n",
       "       1, 1, 1, 0, 1, 1, 1, 1, 0, 1])"
      ]
     },
     "execution_count": 47,
     "metadata": {},
     "output_type": "execute_result"
    }
   ],
   "source": [
    "# Aplicando o modelo nos moldes dado acima\n",
    "\n",
    "# Inicializando meu modelo com o parâmetro n_neighbors = 3, o que quer dizer que vou considerar os 3 vizinhos mais próximos\n",
    "minha_reglog = LogisticRegression(random_state = 42)\n",
    "# Treinando o modelo com os dados de treino\n",
    "minha_reglog.fit(X_train, y_train)\n",
    "# Prevendo os resultados do teste\n",
    "minha_reglog.predict(X_test)"
   ]
  },
  {
   "cell_type": "code",
   "execution_count": 48,
   "metadata": {},
   "outputs": [
    {
     "data": {
      "text/plain": [
       "0.96491228070175439"
      ]
     },
     "execution_count": 48,
     "metadata": {},
     "output_type": "execute_result"
    }
   ],
   "source": [
    "minha_reglog.score(X_test, y_test)"
   ]
  },
  {
   "cell_type": "markdown",
   "metadata": {},
   "source": [
    "### 2.3 - Árvore de decisão\n",
    "\n",
    "A árvore de decisão é um algoritmo que busca criar regras que classifiquem os dados, ela faz isso buscando sempre criar uma sequencia de quebras em variáveis que maximizem a separação das classes esperadas.\n",
    "\n",
    "<img src=\"imagens/arv.jpg\" alt=\"Drawing\" style=\"width: 300px;\"/>\n",
    "\n",
    "**Algoritmo**\n",
    "1. Cheque a variável da base que melhor separa a variável resposta\n",
    "2. Crie uma regra nessa variável e repita os passos 1 e 2 até que as regras separem a variável resposta\n",
    "3. Aplique as regras em uma nova observação e toma uma decisão"
   ]
  },
  {
   "cell_type": "code",
   "execution_count": 49,
   "metadata": {},
   "outputs": [
    {
     "data": {
      "text/plain": [
       "array([1, 0, 0, 1, 1, 0, 0, 0, 1, 1, 0, 0, 1, 0, 1, 0, 1, 1, 1, 0, 1, 1, 0,\n",
       "       1, 1, 1, 1, 1, 1, 0, 1, 1, 1, 1, 1, 1, 0, 1, 0, 1, 1, 0, 1, 1, 1, 1,\n",
       "       0, 0, 1, 1, 0, 0, 1, 1, 1, 1, 1, 0, 0, 1, 1, 0, 0, 1, 1, 1, 0, 0, 1,\n",
       "       1, 0, 0, 1, 0, 1, 1, 1, 0, 1, 1, 0, 1, 1, 0, 0, 0, 0, 0, 1, 1, 1, 1,\n",
       "       0, 1, 1, 1, 0, 0, 1, 0, 0, 1, 0, 0, 1, 1, 1, 0, 1, 1, 0, 1, 1, 0, 1,\n",
       "       0, 1, 1, 1, 0, 0, 1, 1, 0, 1, 0, 0, 1, 1, 0, 0, 0, 1, 1, 1, 1, 0, 1,\n",
       "       1, 0, 1, 0, 1, 1, 0, 1, 0, 0, 0, 1, 0, 1, 1, 1, 0, 0, 0, 1, 1, 1, 1,\n",
       "       1, 1, 1, 0, 1, 1, 1, 1, 0, 1])"
      ]
     },
     "execution_count": 49,
     "metadata": {},
     "output_type": "execute_result"
    }
   ],
   "source": [
    "# Aplicando o modelo nos moldes dado acima\n",
    "\n",
    "# Inicializando meu modelo com o parâmetro n_neighbors = 3, o que quer dizer que vou considerar os 3 vizinhos mais próximos\n",
    "minha_arvore = DecisionTreeClassifier(random_state = 42)\n",
    "# Treinando o modelo com os dados de treino\n",
    "minha_arvore.fit(X_train, y_train)\n",
    "# Prevendo os resultados do teste\n",
    "minha_arvore.predict(X_test)"
   ]
  },
  {
   "cell_type": "code",
   "execution_count": 50,
   "metadata": {},
   "outputs": [
    {
     "data": {
      "text/plain": [
       "0.94152046783625731"
      ]
     },
     "execution_count": 50,
     "metadata": {},
     "output_type": "execute_result"
    }
   ],
   "source": [
    "minha_arvore.score(X_test, y_test)"
   ]
  },
  {
   "cell_type": "markdown",
   "metadata": {},
   "source": [
    "Fonte de informções muito boas e intuitivas: https://towardsdatascience.com/"
   ]
  }
 ],
 "metadata": {
  "kernelspec": {
   "display_name": "Python 3",
   "language": "python",
   "name": "python3"
  },
  "language_info": {
   "codemirror_mode": {
    "name": "ipython",
    "version": 3
   },
   "file_extension": ".py",
   "mimetype": "text/x-python",
   "name": "python",
   "nbconvert_exporter": "python",
   "pygments_lexer": "ipython3",
   "version": "3.6.1"
  }
 },
 "nbformat": 4,
 "nbformat_minor": 2
}
