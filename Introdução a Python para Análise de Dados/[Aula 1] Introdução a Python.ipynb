{
 "cells": [
  {
   "cell_type": "markdown",
   "metadata": {},
   "source": [
    "# Curso de Python - Quanta jr"
   ]
  },
  {
   "cell_type": "markdown",
   "metadata": {},
   "source": [
    "#### Por que Python?\n",
    "\n",
    "\n",
    "1.   Ótimo para iniciantes em programação\n",
    "\n",
    "    * High Level\n",
    "\n",
    "    *  Grande Comunidade online\n",
    "\n",
    "    *  Fácil compreenção\n",
    "\n",
    "\n",
    "2.  Multiplataforma\n",
    "\n",
    "    *   Linguagem Interpretada e não copilada\n",
    "    *   Fácil comunicação com diversos softweres - [PROJETO QUANTA JR.](http://www.quanta.org.br/portfolio/automacao-de-laboratorio-pessoal/)\n",
    "\n",
    "3.  Mercado\n",
    "\n",
    "    *  [CODE NASA](https://code.nasa.gov/)\n",
    "    *  [SPOTIFY](https://labs.spotify.com/2013/03/20/how-we-use-python-at-spotify/)\n",
    "\n",
    "\n",
    "#### Instalando o Python\n",
    "\n",
    "[PYTHON PAGE](https://https://www.python.org/)\n",
    "\n",
    "[ANACONDA](https://www.anaconda.com/distribution/#download-section)\n",
    "\n",
    "\n",
    "#### Básico de Python\n",
    "\n",
    "     * Calculadora \n",
    "     * Script \n",
    "     * Rodando Python diretamente CMD\n",
    "     \n",
    "     \n",
    "#### Objetos em Python\n",
    "\n",
    "    * Variável\n",
    "    * Lista\n",
    "    * Vetor\n",
    "    * Matriz\n",
    "    * Tuple\n",
    "    \n",
    "     \n"
   ]
  },
  {
   "cell_type": "markdown",
   "metadata": {},
   "source": [
    "[ESTRUTURA SEQUENCIAL](https://wiki.python.org.br/EstruturaSequencial )"
   ]
  },
  {
   "cell_type": "code",
   "execution_count": 1,
   "metadata": {},
   "outputs": [
    {
     "name": "stdout",
     "output_type": "stream",
     "text": [
      "Quanta Jr.\n"
     ]
    }
   ],
   "source": [
    "# Estrutura Sequencial\n",
    "#1\n",
    "\n",
    "print(\"Quanta Jr.\")\n",
    "\n",
    "\n"
   ]
  },
  {
   "cell_type": "code",
   "execution_count": 2,
   "metadata": {},
   "outputs": [
    {
     "name": "stdout",
     "output_type": "stream",
     "text": [
      "Entre com um número: 20\n",
      "O número informado foi: 20\n"
     ]
    }
   ],
   "source": [
    "#Entrada\n",
    "n=input(\"Entre com um número: \")\n",
    "\n",
    "print(\"O número informado foi:\",n)"
   ]
  },
  {
   "cell_type": "code",
   "execution_count": 3,
   "metadata": {},
   "outputs": [
    {
     "name": "stdout",
     "output_type": "stream",
     "text": [
      "Informe um número: 28\n",
      "Informe outro número: 2\n",
      "A soma dos números é: 30\n"
     ]
    }
   ],
   "source": [
    "#Soma\n",
    "\n",
    "x=int(input(\"Informe um número: \")) #Observe que é importante converter para numérico\n",
    "y=int(input(\"Informe outro número: \")) \n",
    "\n",
    "soma=x+y\n",
    "\n",
    "print(\"A soma dos números é:\", soma)"
   ]
  },
  {
   "cell_type": "code",
   "execution_count": 4,
   "metadata": {},
   "outputs": [
    {
     "name": "stdout",
     "output_type": "stream",
     "text": [
      "Nota da P1: 1\n",
      "Peso da P1: 1\n",
      "Nota da P2: 1\n",
      "Peso da P2: 1\n",
      "Peso da P3: 1\n",
      "Média da disciplina: 1\n",
      "Você precisa tirar 1.0 para passar nesta disciplina\n"
     ]
    }
   ],
   "source": [
    "# Média\n",
    "\n",
    "p1= int(input(\"Nota da P1: \"))\n",
    "peso1=int(input(\"Peso da P1: \"))\n",
    "\n",
    "p2= int(input(\"Nota da P2: \"))\n",
    "peso2=int(input(\"Peso da P2: \"))\n",
    "\n",
    "peso3=int(input(\"Peso da P3: \"))\n",
    "\n",
    "media= int(input(\"Média da disciplina: \"))\n",
    "\n",
    "soma_peso= (peso1+peso2+peso3)\n",
    "\n",
    "p3= (media*(soma_peso)- peso1*p1 - peso2*p2)/peso3\n",
    "\n",
    "print(\"Você precisa tirar\",p3, \"para passar nesta disciplina\")\n"
   ]
  },
  {
   "cell_type": "code",
   "execution_count": 8,
   "metadata": {},
   "outputs": [
    {
     "name": "stdout",
     "output_type": "stream",
     "text": [
      "Peso da P1: 1\n",
      "Nota da P1: 1\n",
      "Peso da P2: 1\n",
      "Nota da P2: 1\n",
      "Peso da P3: 1\n",
      "Média da disciplina: \n",
      "\n",
      "1\n",
      "Peso da P1: 1\n",
      "Nota da P1: 1\n",
      "Peso da P2: 1\n",
      "Nota da P2: 1\n",
      "Peso da P3: 1\n",
      "Média da disciplina: \n",
      "\n",
      "1\n",
      "Reprovado com nota 1.0\n",
      "Reprovado com nota 1.0\n",
      "1.0\n",
      "1.0\n"
     ]
    }
   ],
   "source": [
    "# função \n",
    "\n",
    "def nota_final():\n",
    "    peso1=int(input(\"Peso da P1: \"))\n",
    "    p1= int(input(\"Nota da P1: \"))\n",
    "    \n",
    "    peso2=int(input(\"Peso da P2: \"))\n",
    "    p2= int(input(\"Nota da P2: \"))\n",
    "  \n",
    "\n",
    "    peso3=int(input(\"Peso da P3: \"))    \n",
    "    \n",
    "    soma_peso= (peso1+peso2+peso3)\n",
    "    \n",
    "    media= int(input(\"Média da disciplina: \\n\\n\"))\n",
    "    \n",
    "    p3= (media*(soma_peso)- peso1*p1 - peso2*p2)/peso3\n",
    "    \n",
    "    return(p3)\n",
    "\n",
    "\n",
    "GA=nota_final()\n",
    "Calculo1=nota_final()\n",
    "\n",
    "\n",
    "if (GA>=5):\n",
    "    print(\"Aprovado com nota \",GA)\n",
    "else:\n",
    "    print(\"Reprovado com nota\",GA)\n",
    "    \n",
    "\n",
    "if (Calculo1>=7):\n",
    "    print(\"Aprovado com nota \",Calculo1)\n",
    "else:\n",
    "    print(\"Reprovado com nota\",Calculo1)\n",
    "    \n",
    "\n",
    "\n",
    "print(GA)\n",
    "print(Calculo1)"
   ]
  },
  {
   "cell_type": "markdown",
   "metadata": {},
   "source": []
  },
  {
   "cell_type": "code",
   "execution_count": 2,
   "metadata": {},
   "outputs": [
    {
     "name": "stdout",
     "output_type": "stream",
     "text": [
      "Parabéns pelo esforço, você deu seu máximo, mas não foi desta vez, da próxima vez vai dar bom ^^\n",
      " Sua nota final foi 5.142857142857143\n"
     ]
    }
   ],
   "source": [
    "# Lista - Condicional\n",
    "p1,p2,p3=9,5,4\n",
    "\n",
    "peso1,peso2,peso3= 1,3,3\n",
    "\n",
    "media=7\n",
    "\n",
    "nota=[p1,p2,p3]\n",
    "peso=[peso1,peso2,peso3]\n",
    "\n",
    "\n",
    "\n",
    "media=(nota[0]*peso[0]+nota[1]*peso[1]+nota[2]*peso[2])/sum(peso)\n",
    "\n",
    "if media>= 7:\n",
    "    print(\"Parabéns, você passou com nota igual a \",media)\n",
    "elif media <7:\n",
    "        print(\"Parabéns pelo esforço, você deu seu máximo, mas não foi desta vez, da próxima vez vai dar bom ^^\\n Sua nota final foi\",media)\n",
    "\n",
    "provas=[[p1,peso1],[p2,peso2],[p3,peso3]]\n",
    "\n",
    "media_1=(provas[0][0]*provas[0][1]+provas[1][0]*provas[1][1]+provas[2][0]*provas[2][1])/(provas[0][1]+provas[1][1]+provas[2][1])\n",
    "\n",
    "\n",
    "\n"
   ]
  },
  {
   "cell_type": "code",
   "execution_count": 4,
   "metadata": {},
   "outputs": [
    {
     "ename": "SyntaxError",
     "evalue": "unexpected EOF while parsing (<ipython-input-4-ecee092b278b>, line 14)",
     "output_type": "error",
     "traceback": [
      "\u001b[1;36m  File \u001b[1;32m\"<ipython-input-4-ecee092b278b>\"\u001b[1;36m, line \u001b[1;32m14\u001b[0m\n\u001b[1;33m    \u001b[0m\n\u001b[1;37m    ^\u001b[0m\n\u001b[1;31mSyntaxError\u001b[0m\u001b[1;31m:\u001b[0m unexpected EOF while parsing\n"
     ]
    }
   ],
   "source": [
    "# loops (for e while)\n",
    "\n",
    "i=0\n",
    "\n",
    "\n",
    "while i<=100:\n",
    "    #print(i)\n",
    "    i=i+1\n",
    "\n",
    "for j in range(0,101):\n",
    "    #print(j)\n",
    "\n",
    "\n",
    "\n"
   ]
  },
  {
   "cell_type": "code",
   "execution_count": 5,
   "metadata": {},
   "outputs": [
    {
     "name": "stdout",
     "output_type": "stream",
     "text": [
      "5.142857142857143\n"
     ]
    }
   ],
   "source": [
    "colunas=len(provas)\n",
    "linhas=len(provas[0])\n",
    "x=1\n",
    "numerador=0\n",
    "denominador=0\n",
    "\n",
    "for i in range(colunas):\n",
    "    for j in range(linhas):\n",
    "        x=provas[i][j]*x    \n",
    "    numerador=numerador+x\n",
    "    x=1\n",
    "    denominador=provas[i][j]+denominador\n",
    "    \n",
    "media_2=numerador/denominador \n",
    "print(media_2)"
   ]
  },
  {
   "cell_type": "code",
   "execution_count": 18,
   "metadata": {},
   "outputs": [
    {
     "name": "stdout",
     "output_type": "stream",
     "text": [
      "Nome: Lucas\n",
      "Nome: Igor\n",
      "Nome: Jose\n",
      "Nome: n\n",
      "['Lucas', 'Igor', 'Jose']\n"
     ]
    }
   ],
   "source": [
    "participantes=[]\n",
    "x=\"\"\n",
    "while x!= \"n\":\n",
    "    x=input(\"Nome: \")\n",
    "    if x!=\"n\":\n",
    "        participantes.append(x)\n",
    "print(participantes)"
   ]
  },
  {
   "cell_type": "code",
   "execution_count": 13,
   "metadata": {},
   "outputs": [],
   "source": [
    "#Biblioteca\n",
    "\n",
    "def media(provas):\n",
    "    media=sum(provas)/len(provas)\n",
    "    return(media)\n",
    "\n",
    "def maior_nota(provas):\n",
    "    maior=(max(provas))\n",
    "    return(maior)\n",
    "\n",
    "def menor_nota(prova1,prova2,prova3):\n",
    "    menor = min(provas)\n",
    "    return(menor)\n",
    "    "
   ]
  },
  {
   "cell_type": "code",
   "execution_count": 4,
   "metadata": {},
   "outputs": [
    {
     "name": "stdout",
     "output_type": "stream",
     "text": [
      "Au\n",
      "Beto\n"
     ]
    }
   ],
   "source": [
    "# Classe \n",
    "class cachorro():\n",
    "    def __init__(self,nome):\n",
    "        self.nome=nome\n",
    "    def latir(self):\n",
    "        print(\"Au\")\n",
    "        \n",
    "meu_cachorro=cachorro(\"Beto\")\n",
    "meu_cachorro.latir()\n",
    "print(meu_cachorro.nome)"
   ]
  },
  {
   "cell_type": "markdown",
   "metadata": {},
   "source": []
  }
 ],
 "metadata": {
  "kernelspec": {
   "display_name": "Python 3",
   "language": "python",
   "name": "python3"
  },
  "language_info": {
   "codemirror_mode": {
    "name": "ipython",
    "version": 3
   },
   "file_extension": ".py",
   "mimetype": "text/x-python",
   "name": "python",
   "nbconvert_exporter": "python",
   "pygments_lexer": "ipython3",
   "version": "3.7.3"
  }
 },
 "nbformat": 4,
 "nbformat_minor": 2
}
